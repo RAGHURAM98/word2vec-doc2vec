{
 "cells": [
  {
   "cell_type": "markdown",
   "metadata": {},
   "source": [
    "## Word2Vec\n",
    "\n",
    "We will use this notebook to display examples of word2vec and doc2vec."
   ]
  },
  {
   "cell_type": "code",
   "execution_count": 1,
   "metadata": {},
   "outputs": [],
   "source": [
    "from gensim.models import word2vec\n",
    "import gensim"
   ]
  },
  {
   "cell_type": "code",
   "execution_count": 2,
   "metadata": {},
   "outputs": [],
   "source": [
    "sentences = word2vec.Text8Corpus('text8')"
   ]
  },
  {
   "cell_type": "code",
   "execution_count": 40,
   "metadata": {},
   "outputs": [],
   "source": [
    "model = word2vec.Word2Vec(sentences, size=50, hs=1,window =10,workers=40)"
   ]
  },
  {
   "cell_type": "code",
   "execution_count": 41,
   "metadata": {},
   "outputs": [
    {
     "name": "stdout",
     "output_type": "stream",
     "text": [
      "Word2Vec(vocab=71290, size=50, alpha=0.025)\n"
     ]
    }
   ],
   "source": [
    "print(model)"
   ]
  },
  {
   "cell_type": "code",
   "execution_count": 42,
   "metadata": {},
   "outputs": [
    {
     "data": {
      "text/plain": [
       "[('nurse', 0.6760469675064087),\n",
       " ('child', 0.6014675498008728),\n",
       " ('midwives', 0.5683537721633911),\n",
       " ('midwife', 0.5680707693099976),\n",
       " ('officiated', 0.5519989728927612),\n",
       " ('obstetrics', 0.5444485545158386)]"
      ]
     },
     "execution_count": 42,
     "metadata": {},
     "output_type": "execute_result"
    }
   ],
   "source": [
    "model.wv.most_similar(positive=['woman', 'doctor'], negative=['man'], topn=6)"
   ]
  },
  {
   "cell_type": "code",
   "execution_count": 44,
   "metadata": {},
   "outputs": [
    {
     "data": {
      "text/plain": [
       "[('empress', 0.8069540858268738),\n",
       " ('princess', 0.7907478213310242),\n",
       " ('queen', 0.7585235834121704),\n",
       " ('salian', 0.748157262802124),\n",
       " ('regent', 0.7280312776565552),\n",
       " ('afonso', 0.7231035232543945)]"
      ]
     },
     "execution_count": 44,
     "metadata": {},
     "output_type": "execute_result"
    }
   ],
   "source": [
    "model.wv.most_similar(positive=['woman', 'prince'], negative=['man'], topn=6)"
   ]
  },
  {
   "cell_type": "code",
   "execution_count": 10,
   "metadata": {},
   "outputs": [
    {
     "data": {
      "text/plain": [
       "array([ 4.81488049e-01, -2.08240643e-01, -1.25725079e+00, -5.80566227e-01,\n",
       "        1.46344841e-01,  7.28237450e-01,  1.40431583e+00,  1.14726186e+00,\n",
       "        1.86838150e+00, -1.70588112e+00, -1.97037911e+00, -3.66861373e-01,\n",
       "       -1.00517422e-01, -1.30687892e-01,  2.93891644e+00, -2.30787575e-01,\n",
       "        1.65440843e-01,  2.46435463e-01, -1.47343087e+00,  1.60584104e+00,\n",
       "       -2.37543374e-01,  1.34929132e+00, -6.33492708e-01, -7.41743863e-01,\n",
       "       -3.60609949e-01, -2.76208925e+00, -1.07707691e+00,  9.24265087e-01,\n",
       "        1.00489700e+00,  2.41884515e-01,  1.86594224e+00, -1.14349401e+00,\n",
       "        1.83580852e+00, -2.02045250e+00, -9.75319266e-01, -8.68489146e-01,\n",
       "       -1.37908161e-01, -3.71214122e-01, -6.40461072e-02,  8.89097989e-01,\n",
       "        7.28664696e-01,  1.43508887e+00,  1.12310457e+00, -7.05435216e-01,\n",
       "        1.43868065e+00,  1.25927413e+00,  1.47535229e+00,  1.19167373e-01,\n",
       "       -1.02678275e+00,  8.63480985e-01,  2.97624081e-01, -1.33487195e-01,\n",
       "       -8.64600599e-01,  1.15906405e+00,  9.01227355e-01, -6.31198764e-01,\n",
       "        9.94908914e-05,  2.20435873e-01,  8.68199706e-01,  3.05219322e-01,\n",
       "       -1.02264082e+00, -4.46338832e-01,  5.06035745e-01, -9.95120645e-01,\n",
       "       -9.54986215e-01, -1.71369457e+00,  7.62838960e-01,  4.96608943e-01,\n",
       "        1.08175445e+00,  2.33644873e-01,  1.26364541e+00, -3.01556855e-01,\n",
       "       -1.11744678e+00, -3.31828147e-01, -1.44264793e+00, -9.29887116e-01,\n",
       "        1.92932153e+00,  1.20826386e-01, -1.18826854e+00, -1.25109708e+00,\n",
       "        1.01428282e+00,  1.72984636e+00, -3.31551850e-01,  2.03536034e+00,\n",
       "        1.84108448e+00,  1.25986660e+00, -1.25770843e+00,  3.84544015e-01,\n",
       "        1.90786922e+00,  1.20868111e+00, -1.03650741e-01,  5.35929918e-01,\n",
       "       -1.56188917e+00,  1.92222938e-01, -3.27208996e-01, -5.73518574e-01,\n",
       "       -2.34969586e-01,  1.92307448e+00, -5.97217679e-01, -6.77584171e-01,\n",
       "        1.40325320e+00,  4.50507313e-01, -5.96827157e-02, -1.99635720e+00,\n",
       "        1.54871714e+00,  4.80118811e-01,  2.41330415e-01,  1.78320217e+00,\n",
       "        6.97316051e-01, -2.74644662e-02,  2.31329829e-01, -1.43482655e-01,\n",
       "       -2.05384469e+00,  1.17283118e+00,  7.11200058e-01,  1.77908242e+00,\n",
       "        1.22071123e+00, -1.17611086e+00,  5.00006042e-02,  9.22695026e-02,\n",
       "       -4.54187959e-01,  7.63424218e-01, -1.20725542e-01, -2.43523240e-01,\n",
       "        6.46430254e-02,  4.91704315e-01,  5.85814178e-01, -2.14786619e-01,\n",
       "        3.00781310e-01,  2.81617373e-01,  1.21205151e+00,  1.65796602e+00,\n",
       "       -2.19975829e-01, -1.09253180e+00,  9.03872728e-01,  1.10458750e-02,\n",
       "        2.71198392e-01, -1.08444929e-01,  3.39986473e-01, -1.36823261e+00,\n",
       "        5.16080022e-01,  1.84131706e+00, -7.97907352e-01, -3.28627735e-01,\n",
       "       -1.43316782e+00,  1.21451426e+00,  3.91872257e-01, -6.76461935e-01,\n",
       "        1.95397103e+00, -8.25301766e-01,  2.91784191e+00,  1.22814465e+00,\n",
       "        1.45945409e-02,  1.07212208e-01, -1.88682699e+00,  2.09212041e+00,\n",
       "       -1.95749581e-01, -6.27671659e-01,  1.49989581e+00,  7.73033559e-01,\n",
       "       -7.46299148e-01,  9.39454317e-01, -3.94221872e-01, -3.80688578e-01,\n",
       "        2.11581349e+00, -1.20316409e-01, -1.20407832e+00,  2.40065396e-01,\n",
       "       -2.45922232e+00, -2.28787005e-01,  1.20738089e+00, -2.81261468e+00,\n",
       "        1.79086709e+00, -7.13289559e-01, -1.05477452e+00, -2.05686903e+00,\n",
       "       -4.14997280e-01, -1.30307078e+00, -5.65629780e-01, -1.97193360e+00,\n",
       "        4.22489308e-02,  1.44396881e-02,  7.47216105e-01,  2.03287125e-01,\n",
       "       -6.97227836e-01,  9.52047706e-01, -6.31426990e-01,  1.41888070e+00,\n",
       "        1.17325842e+00, -2.70561934e+00,  4.61536527e-01, -7.53108144e-01,\n",
       "        1.50713384e+00, -5.76425083e-02,  3.05189443e+00, -1.25716949e+00,\n",
       "       -2.00823092e+00,  7.80490220e-01,  1.52262557e+00, -7.32646883e-01],\n",
       "      dtype=float32)"
      ]
     },
     "execution_count": 10,
     "metadata": {},
     "output_type": "execute_result"
    }
   ],
   "source": [
    "model.wv['ram']"
   ]
  },
  {
   "cell_type": "code",
   "execution_count": 11,
   "metadata": {},
   "outputs": [],
   "source": [
    "model.save(\"text8_model\")"
   ]
  },
  {
   "cell_type": "code",
   "execution_count": 12,
   "metadata": {},
   "outputs": [],
   "source": [
    "model = word2vec.Word2Vec.load(\"text8_model\")"
   ]
  },
  {
   "cell_type": "code",
   "execution_count": 13,
   "metadata": {},
   "outputs": [
    {
     "data": {
      "text/plain": [
       "[('queen', 0.9268444180488586),\n",
       " ('empress', 0.8659316897392273),\n",
       " ('regent', 0.8493916988372803),\n",
       " ('throne', 0.8459897041320801),\n",
       " ('monarch', 0.8459803462028503),\n",
       " ('princess', 0.8447242379188538),\n",
       " ('anjou', 0.8387898802757263),\n",
       " ('elizabeth', 0.8352595567703247),\n",
       " ('consort', 0.8340297937393188),\n",
       " ('isabella', 0.8321693539619446)]"
      ]
     },
     "execution_count": 13,
     "metadata": {},
     "output_type": "execute_result"
    }
   ],
   "source": [
    "model.wv.most_similar_cosmul(positive=['woman', 'king'], negative=['man'])"
   ]
  },
  {
   "cell_type": "code",
   "execution_count": 14,
   "metadata": {},
   "outputs": [
    {
     "data": {
      "text/plain": [
       "'cereal'"
      ]
     },
     "execution_count": 14,
     "metadata": {},
     "output_type": "execute_result"
    }
   ],
   "source": [
    "model.wv.doesnt_match(\"breakfast cereal dinner lunch\".split())"
   ]
  },
  {
   "cell_type": "code",
   "execution_count": 15,
   "metadata": {},
   "outputs": [
    {
     "data": {
      "text/plain": [
       "0.5644712229120626"
      ]
     },
     "execution_count": 15,
     "metadata": {},
     "output_type": "execute_result"
    }
   ],
   "source": [
    "model.wv.similarity('woman', 'man')"
   ]
  },
  {
   "cell_type": "code",
   "execution_count": 20,
   "metadata": {},
   "outputs": [
    {
     "data": {
      "text/plain": [
       "0.6191218212250302"
      ]
     },
     "execution_count": 20,
     "metadata": {},
     "output_type": "execute_result"
    }
   ],
   "source": [
    "model.wv.similarity('woman', 'girl')"
   ]
  },
  {
   "cell_type": "code",
   "execution_count": 17,
   "metadata": {},
   "outputs": [
    {
     "data": {
      "text/plain": [
       "0.43552877708793736"
      ]
     },
     "execution_count": 17,
     "metadata": {},
     "output_type": "execute_result"
    }
   ],
   "source": [
    "model.wv.distance('man', 'woman')"
   ]
  },
  {
   "cell_type": "markdown",
   "metadata": {},
   "source": [
    "Probability of a text under the model:"
   ]
  },
  {
   "cell_type": "code",
   "execution_count": 21,
   "metadata": {},
   "outputs": [
    {
     "data": {
      "text/plain": [
       "array([-49.718815], dtype=float32)"
      ]
     },
     "execution_count": 21,
     "metadata": {},
     "output_type": "execute_result"
    }
   ],
   "source": [
    "model.score([\"The fox jumped over a lazy dog\".split()])"
   ]
  },
  {
   "cell_type": "code",
   "execution_count": 22,
   "metadata": {},
   "outputs": [
    {
     "data": {
      "text/plain": [
       "array([-49.360596], dtype=float32)"
      ]
     },
     "execution_count": 22,
     "metadata": {},
     "output_type": "execute_result"
    }
   ],
   "source": [
    "model.score([\"Building apples oil nonsense sentence\".split()])"
   ]
  },
  {
   "cell_type": "markdown",
   "metadata": {},
   "source": [
    "Loading Google Vectors"
   ]
  },
  {
   "cell_type": "code",
   "execution_count": null,
   "metadata": {},
   "outputs": [],
   "source": [
    "from gensim.models import KeyedVectors\n",
    "# load the google word2vec model\n",
    "filename = 'GoogleNews-vectors-negative300.bin'\n",
    "model = KeyedVectors.load_word2vec_format(filename, binary=True)\n",
    "# calculate: (king - man) + woman = ?\n",
    "result = model.most_similar(positive=['woman', 'king'], negative=['man'], topn=1)"
   ]
  },
  {
   "cell_type": "code",
   "execution_count": null,
   "metadata": {},
   "outputs": [],
   "source": [
    "result"
   ]
  },
  {
   "cell_type": "markdown",
   "metadata": {},
   "source": [
    "Bigrams"
   ]
  },
  {
   "cell_type": "code",
   "execution_count": null,
   "metadata": {},
   "outputs": [],
   "source": [
    "bigram_transformer = gensim.models.Phrases(sentences)\n",
    "model_bi = word2vec.Word2Vec(bigram_transformer[sentences], size=100)"
   ]
  },
  {
   "cell_type": "markdown",
   "metadata": {},
   "source": [
    "GloVe"
   ]
  },
  {
   "cell_type": "code",
   "execution_count": null,
   "metadata": {},
   "outputs": [],
   "source": [
    "from gensim.scripts.glove2word2vec import glove2word2vec\n",
    "glove_input_file = 'glove/glove.6B.100d.txt'\n",
    "word2vec_output_file = 'glove.6B.100d.txt.word2vec'\n",
    "glove2word2vec(glove_input_file, word2vec_output_file)"
   ]
  },
  {
   "cell_type": "code",
   "execution_count": null,
   "metadata": {},
   "outputs": [],
   "source": [
    "from gensim.models import KeyedVectors\n",
    "# load the Stanford GloVe model\n",
    "filename = 'glove.6B.100d.txt.word2vec'\n",
    "model = KeyedVectors.load_word2vec_format(filename, binary=False)\n",
    "# calculate: (king - man) + woman = ?\n",
    "result = model.most_similar(positive=['woman', 'king'], negative=['man'], topn=1)\n",
    "result"
   ]
  },
  {
   "cell_type": "markdown",
   "metadata": {
    "collapsed": true
   },
   "source": [
    "### Doc2Vec\n",
    "\n"
   ]
  },
  {
   "cell_type": "code",
   "execution_count": 23,
   "metadata": {},
   "outputs": [],
   "source": [
    "import gensim\n",
    "import os\n",
    "import collections\n",
    "import smart_open\n",
    "import random"
   ]
  },
  {
   "cell_type": "code",
   "execution_count": 24,
   "metadata": {},
   "outputs": [],
   "source": [
    "# Set file names for train and test data\n",
    "test_data_dir = '{}'.format(os.sep).join([gensim.__path__[0], 'test', 'test_data'])\n",
    "lee_train_file = test_data_dir + os.sep + 'lee_background.cor'\n",
    "lee_test_file = test_data_dir + os.sep + 'lee.cor'"
   ]
  },
  {
   "cell_type": "code",
   "execution_count": 25,
   "metadata": {},
   "outputs": [],
   "source": [
    "def read_corpus(fname, tokens_only=False):\n",
    "    with smart_open.smart_open(fname, encoding=\"iso-8859-1\") as f:\n",
    "        for i, line in enumerate(f):\n",
    "            if tokens_only:\n",
    "                yield gensim.utils.simple_preprocess(line)\n",
    "            else:\n",
    "                # For training data, add tags\n",
    "                yield gensim.models.doc2vec.TaggedDocument(gensim.utils.simple_preprocess(line), [i])"
   ]
  },
  {
   "cell_type": "code",
   "execution_count": 26,
   "metadata": {},
   "outputs": [],
   "source": [
    "train_corpus = list(read_corpus(lee_train_file))\n",
    "test_corpus = list(read_corpus(lee_test_file, tokens_only=True))"
   ]
  },
  {
   "cell_type": "code",
   "execution_count": 27,
   "metadata": {},
   "outputs": [
    {
     "data": {
      "text/plain": [
       "[TaggedDocument(words=['hundreds', 'of', 'people', 'have', 'been', 'forced', 'to', 'vacate', 'their', 'homes', 'in', 'the', 'southern', 'highlands', 'of', 'new', 'south', 'wales', 'as', 'strong', 'winds', 'today', 'pushed', 'huge', 'bushfire', 'towards', 'the', 'town', 'of', 'hill', 'top', 'new', 'blaze', 'near', 'goulburn', 'south', 'west', 'of', 'sydney', 'has', 'forced', 'the', 'closure', 'of', 'the', 'hume', 'highway', 'at', 'about', 'pm', 'aedt', 'marked', 'deterioration', 'in', 'the', 'weather', 'as', 'storm', 'cell', 'moved', 'east', 'across', 'the', 'blue', 'mountains', 'forced', 'authorities', 'to', 'make', 'decision', 'to', 'evacuate', 'people', 'from', 'homes', 'in', 'outlying', 'streets', 'at', 'hill', 'top', 'in', 'the', 'new', 'south', 'wales', 'southern', 'highlands', 'an', 'estimated', 'residents', 'have', 'left', 'their', 'homes', 'for', 'nearby', 'mittagong', 'the', 'new', 'south', 'wales', 'rural', 'fire', 'service', 'says', 'the', 'weather', 'conditions', 'which', 'caused', 'the', 'fire', 'to', 'burn', 'in', 'finger', 'formation', 'have', 'now', 'eased', 'and', 'about', 'fire', 'units', 'in', 'and', 'around', 'hill', 'top', 'are', 'optimistic', 'of', 'defending', 'all', 'properties', 'as', 'more', 'than', 'blazes', 'burn', 'on', 'new', 'year', 'eve', 'in', 'new', 'south', 'wales', 'fire', 'crews', 'have', 'been', 'called', 'to', 'new', 'fire', 'at', 'gunning', 'south', 'of', 'goulburn', 'while', 'few', 'details', 'are', 'available', 'at', 'this', 'stage', 'fire', 'authorities', 'says', 'it', 'has', 'closed', 'the', 'hume', 'highway', 'in', 'both', 'directions', 'meanwhile', 'new', 'fire', 'in', 'sydney', 'west', 'is', 'no', 'longer', 'threatening', 'properties', 'in', 'the', 'cranebrook', 'area', 'rain', 'has', 'fallen', 'in', 'some', 'parts', 'of', 'the', 'illawarra', 'sydney', 'the', 'hunter', 'valley', 'and', 'the', 'north', 'coast', 'but', 'the', 'bureau', 'of', 'meteorology', 'claire', 'richards', 'says', 'the', 'rain', 'has', 'done', 'little', 'to', 'ease', 'any', 'of', 'the', 'hundred', 'fires', 'still', 'burning', 'across', 'the', 'state', 'the', 'falls', 'have', 'been', 'quite', 'isolated', 'in', 'those', 'areas', 'and', 'generally', 'the', 'falls', 'have', 'been', 'less', 'than', 'about', 'five', 'millimetres', 'she', 'said', 'in', 'some', 'places', 'really', 'not', 'significant', 'at', 'all', 'less', 'than', 'millimetre', 'so', 'there', 'hasn', 'been', 'much', 'relief', 'as', 'far', 'as', 'rain', 'is', 'concerned', 'in', 'fact', 'they', 've', 'probably', 'hampered', 'the', 'efforts', 'of', 'the', 'firefighters', 'more', 'because', 'of', 'the', 'wind', 'gusts', 'that', 'are', 'associated', 'with', 'those', 'thunderstorms'], tags=[0]),\n",
       " TaggedDocument(words=['indian', 'security', 'forces', 'have', 'shot', 'dead', 'eight', 'suspected', 'militants', 'in', 'night', 'long', 'encounter', 'in', 'southern', 'kashmir', 'the', 'shootout', 'took', 'place', 'at', 'dora', 'village', 'some', 'kilometers', 'south', 'of', 'the', 'kashmiri', 'summer', 'capital', 'srinagar', 'the', 'deaths', 'came', 'as', 'pakistani', 'police', 'arrested', 'more', 'than', 'two', 'dozen', 'militants', 'from', 'extremist', 'groups', 'accused', 'of', 'staging', 'an', 'attack', 'on', 'india', 'parliament', 'india', 'has', 'accused', 'pakistan', 'based', 'lashkar', 'taiba', 'and', 'jaish', 'mohammad', 'of', 'carrying', 'out', 'the', 'attack', 'on', 'december', 'at', 'the', 'behest', 'of', 'pakistani', 'military', 'intelligence', 'military', 'tensions', 'have', 'soared', 'since', 'the', 'raid', 'with', 'both', 'sides', 'massing', 'troops', 'along', 'their', 'border', 'and', 'trading', 'tit', 'for', 'tat', 'diplomatic', 'sanctions', 'yesterday', 'pakistan', 'announced', 'it', 'had', 'arrested', 'lashkar', 'taiba', 'chief', 'hafiz', 'mohammed', 'saeed', 'police', 'in', 'karachi', 'say', 'it', 'is', 'likely', 'more', 'raids', 'will', 'be', 'launched', 'against', 'the', 'two', 'groups', 'as', 'well', 'as', 'other', 'militant', 'organisations', 'accused', 'of', 'targetting', 'india', 'military', 'tensions', 'between', 'india', 'and', 'pakistan', 'have', 'escalated', 'to', 'level', 'not', 'seen', 'since', 'their', 'war'], tags=[1])]"
      ]
     },
     "execution_count": 27,
     "metadata": {},
     "output_type": "execute_result"
    }
   ],
   "source": [
    "train_corpus[:2]"
   ]
  },
  {
   "cell_type": "code",
   "execution_count": 28,
   "metadata": {},
   "outputs": [
    {
     "data": {
      "text/plain": [
       "[['the',\n",
       "  'national',\n",
       "  'executive',\n",
       "  'of',\n",
       "  'the',\n",
       "  'strife',\n",
       "  'torn',\n",
       "  'democrats',\n",
       "  'last',\n",
       "  'night',\n",
       "  'appointed',\n",
       "  'little',\n",
       "  'known',\n",
       "  'west',\n",
       "  'australian',\n",
       "  'senator',\n",
       "  'brian',\n",
       "  'greig',\n",
       "  'as',\n",
       "  'interim',\n",
       "  'leader',\n",
       "  'shock',\n",
       "  'move',\n",
       "  'likely',\n",
       "  'to',\n",
       "  'provoke',\n",
       "  'further',\n",
       "  'conflict',\n",
       "  'between',\n",
       "  'the',\n",
       "  'party',\n",
       "  'senators',\n",
       "  'and',\n",
       "  'its',\n",
       "  'organisation',\n",
       "  'in',\n",
       "  'move',\n",
       "  'to',\n",
       "  'reassert',\n",
       "  'control',\n",
       "  'over',\n",
       "  'the',\n",
       "  'party',\n",
       "  'seven',\n",
       "  'senators',\n",
       "  'the',\n",
       "  'national',\n",
       "  'executive',\n",
       "  'last',\n",
       "  'night',\n",
       "  'rejected',\n",
       "  'aden',\n",
       "  'ridgeway',\n",
       "  'bid',\n",
       "  'to',\n",
       "  'become',\n",
       "  'interim',\n",
       "  'leader',\n",
       "  'in',\n",
       "  'favour',\n",
       "  'of',\n",
       "  'senator',\n",
       "  'greig',\n",
       "  'supporter',\n",
       "  'of',\n",
       "  'deposed',\n",
       "  'leader',\n",
       "  'natasha',\n",
       "  'stott',\n",
       "  'despoja',\n",
       "  'and',\n",
       "  'an',\n",
       "  'outspoken',\n",
       "  'gay',\n",
       "  'rights',\n",
       "  'activist'],\n",
       " ['cash',\n",
       "  'strapped',\n",
       "  'financial',\n",
       "  'services',\n",
       "  'group',\n",
       "  'amp',\n",
       "  'has',\n",
       "  'shelved',\n",
       "  'million',\n",
       "  'plan',\n",
       "  'to',\n",
       "  'buy',\n",
       "  'shares',\n",
       "  'back',\n",
       "  'from',\n",
       "  'investors',\n",
       "  'and',\n",
       "  'will',\n",
       "  'raise',\n",
       "  'million',\n",
       "  'in',\n",
       "  'fresh',\n",
       "  'capital',\n",
       "  'after',\n",
       "  'profits',\n",
       "  'crashed',\n",
       "  'in',\n",
       "  'the',\n",
       "  'six',\n",
       "  'months',\n",
       "  'to',\n",
       "  'june',\n",
       "  'chief',\n",
       "  'executive',\n",
       "  'paul',\n",
       "  'batchelor',\n",
       "  'said',\n",
       "  'the',\n",
       "  'result',\n",
       "  'was',\n",
       "  'solid',\n",
       "  'in',\n",
       "  'what',\n",
       "  'he',\n",
       "  'described',\n",
       "  'as',\n",
       "  'the',\n",
       "  'worst',\n",
       "  'conditions',\n",
       "  'for',\n",
       "  'stock',\n",
       "  'markets',\n",
       "  'in',\n",
       "  'years',\n",
       "  'amp',\n",
       "  'half',\n",
       "  'year',\n",
       "  'profit',\n",
       "  'sank',\n",
       "  'per',\n",
       "  'cent',\n",
       "  'to',\n",
       "  'million',\n",
       "  'or',\n",
       "  'share',\n",
       "  'as',\n",
       "  'australia',\n",
       "  'largest',\n",
       "  'investor',\n",
       "  'and',\n",
       "  'fund',\n",
       "  'manager',\n",
       "  'failed',\n",
       "  'to',\n",
       "  'hit',\n",
       "  'projected',\n",
       "  'per',\n",
       "  'cent',\n",
       "  'earnings',\n",
       "  'growth',\n",
       "  'targets',\n",
       "  'and',\n",
       "  'was',\n",
       "  'battered',\n",
       "  'by',\n",
       "  'falling',\n",
       "  'returns',\n",
       "  'on',\n",
       "  'share',\n",
       "  'markets']]"
      ]
     },
     "execution_count": 28,
     "metadata": {},
     "output_type": "execute_result"
    }
   ],
   "source": [
    "test_corpus[:2]"
   ]
  },
  {
   "cell_type": "code",
   "execution_count": 29,
   "metadata": {},
   "outputs": [
    {
     "name": "stderr",
     "output_type": "stream",
     "text": [
      "/home/raghuram/anaconda3/lib/python3.6/site-packages/gensim/models/doc2vec.py:362: UserWarning: The parameter `iter` is deprecated, will be removed in 4.0.0, use `epochs` instead.\n",
      "  warnings.warn(\"The parameter `iter` is deprecated, will be removed in 4.0.0, use `epochs` instead.\")\n",
      "/home/raghuram/anaconda3/lib/python3.6/site-packages/gensim/models/doc2vec.py:366: UserWarning: The parameter `size` is deprecated, will be removed in 4.0.0, use `vector_size` instead.\n",
      "  warnings.warn(\"The parameter `size` is deprecated, will be removed in 4.0.0, use `vector_size` instead.\")\n"
     ]
    }
   ],
   "source": [
    "model = gensim.models.doc2vec.Doc2Vec(size=100, min_count=2, iter=55)"
   ]
  },
  {
   "cell_type": "code",
   "execution_count": 30,
   "metadata": {},
   "outputs": [],
   "source": [
    "model.build_vocab(train_corpus)"
   ]
  },
  {
   "cell_type": "code",
   "execution_count": 31,
   "metadata": {},
   "outputs": [
    {
     "name": "stderr",
     "output_type": "stream",
     "text": [
      "/home/raghuram/anaconda3/lib/python3.6/site-packages/ipykernel_launcher.py:1: DeprecationWarning: Call to deprecated `iter` (Attribute will be removed in 4.0.0, use self.epochs instead).\n",
      "  \"\"\"Entry point for launching an IPython kernel.\n"
     ]
    }
   ],
   "source": [
    "model.train(train_corpus, total_examples=model.corpus_count, epochs=model.iter)"
   ]
  },
  {
   "cell_type": "code",
   "execution_count": 32,
   "metadata": {},
   "outputs": [
    {
     "data": {
      "text/plain": [
       "array([ 0.06123853, -0.12657405, -0.01863617,  0.02694033,  0.01082084,\n",
       "       -0.05824688, -0.02974338, -0.02814975,  0.09160929,  0.07546145,\n",
       "        0.044205  ,  0.0024443 , -0.00302169, -0.0038171 , -0.02637248,\n",
       "       -0.00183542,  0.02136829, -0.06165252, -0.02959825,  0.018112  ,\n",
       "       -0.00762414,  0.01439403,  0.04131421, -0.06743766, -0.03044176,\n",
       "       -0.00303066, -0.0881506 ,  0.01031308, -0.02172182,  0.00170355,\n",
       "       -0.03332786,  0.00243492, -0.06585026, -0.02426046,  0.08888032,\n",
       "        0.0639278 , -0.03381418, -0.05164616, -0.02890987, -0.03608865,\n",
       "       -0.06987838,  0.02091273,  0.00237639,  0.00518828,  0.00676337,\n",
       "       -0.01942884,  0.02443582,  0.03086436,  0.01596531,  0.00608203,\n",
       "        0.02927899, -0.03092281,  0.00970831, -0.00297616, -0.01011361,\n",
       "       -0.0135577 ,  0.02886235, -0.01383919,  0.0389015 ,  0.01800421,\n",
       "       -0.02134193,  0.01504595,  0.02088244, -0.0712858 , -0.00213779,\n",
       "        0.01987751,  0.02322287,  0.03459476,  0.12207538,  0.04425652,\n",
       "        0.09154981, -0.00502656, -0.00013194,  0.04863997,  0.00025971,\n",
       "        0.09874553,  0.05391935, -0.00383969,  0.01317451,  0.04075513,\n",
       "        0.0319784 , -0.00757343, -0.01843253, -0.06153735, -0.0898075 ,\n",
       "        0.0747253 ,  0.00129811,  0.03835142, -0.03056687, -0.00786576,\n",
       "        0.05939793, -0.00920324, -0.00894533,  0.00156521,  0.05814479,\n",
       "       -0.00633959, -0.03576917, -0.03644803,  0.04439024, -0.00700005],\n",
       "      dtype=float32)"
      ]
     },
     "execution_count": 32,
     "metadata": {},
     "output_type": "execute_result"
    }
   ],
   "source": [
    "model.infer_vector(['only', 'you', 'can', 'prevent', 'forrest', 'fires'])"
   ]
  },
  {
   "cell_type": "markdown",
   "metadata": {},
   "source": [
    "Assessing Model"
   ]
  },
  {
   "cell_type": "code",
   "execution_count": 33,
   "metadata": {},
   "outputs": [],
   "source": [
    "ranks = []\n",
    "second_ranks = []\n",
    "for doc_id in range(len(train_corpus)):\n",
    "    inferred_vector = model.infer_vector(train_corpus[doc_id].words)\n",
    "    sims = model.docvecs.most_similar([inferred_vector], topn=len(model.docvecs))\n",
    "    rank = [docid for docid, sim in sims].index(doc_id)\n",
    "    ranks.append(rank)\n",
    "    \n",
    "    second_ranks.append(sims[1])"
   ]
  },
  {
   "cell_type": "code",
   "execution_count": 34,
   "metadata": {},
   "outputs": [],
   "source": [
    "inferred_vector = model.infer_vector(train_corpus[0].words)\n",
    "sims = model.docvecs.most_similar([inferred_vector])"
   ]
  },
  {
   "cell_type": "code",
   "execution_count": 35,
   "metadata": {
    "scrolled": true
   },
   "outputs": [
    {
     "data": {
      "text/plain": [
       "[(0, 0.9206167459487915),\n",
       " (48, 0.856911301612854),\n",
       " (8, 0.8179492354393005),\n",
       " (40, 0.7956974506378174),\n",
       " (255, 0.7944805026054382),\n",
       " (33, 0.7808020114898682),\n",
       " (272, 0.771481454372406),\n",
       " (9, 0.7530669569969177),\n",
       " (10, 0.7206312417984009),\n",
       " (19, 0.7126067280769348)]"
      ]
     },
     "execution_count": 35,
     "metadata": {},
     "output_type": "execute_result"
    }
   ],
   "source": [
    "sims"
   ]
  },
  {
   "cell_type": "code",
   "execution_count": 36,
   "metadata": {},
   "outputs": [
    {
     "data": {
      "text/plain": [
       "'hundreds of people have been forced to vacate their homes in the southern highlands of new south wales as strong winds today pushed huge bushfire towards the town of hill top new blaze near goulburn south west of sydney has forced the closure of the hume highway at about pm aedt marked deterioration in the weather as storm cell moved east across the blue mountains forced authorities to make decision to evacuate people from homes in outlying streets at hill top in the new south wales southern highlands an estimated residents have left their homes for nearby mittagong the new south wales rural fire service says the weather conditions which caused the fire to burn in finger formation have now eased and about fire units in and around hill top are optimistic of defending all properties as more than blazes burn on new year eve in new south wales fire crews have been called to new fire at gunning south of goulburn while few details are available at this stage fire authorities says it has closed the hume highway in both directions meanwhile new fire in sydney west is no longer threatening properties in the cranebrook area rain has fallen in some parts of the illawarra sydney the hunter valley and the north coast but the bureau of meteorology claire richards says the rain has done little to ease any of the hundred fires still burning across the state the falls have been quite isolated in those areas and generally the falls have been less than about five millimetres she said in some places really not significant at all less than millimetre so there hasn been much relief as far as rain is concerned in fact they ve probably hampered the efforts of the firefighters more because of the wind gusts that are associated with those thunderstorms'"
      ]
     },
     "execution_count": 36,
     "metadata": {},
     "output_type": "execute_result"
    }
   ],
   "source": [
    "' '.join(train_corpus[0].words)"
   ]
  },
  {
   "cell_type": "code",
   "execution_count": 37,
   "metadata": {},
   "outputs": [
    {
     "data": {
      "text/plain": [
       "Counter({0: 290, 4: 1, 1: 9})"
      ]
     },
     "execution_count": 37,
     "metadata": {},
     "output_type": "execute_result"
    }
   ],
   "source": [
    "collections.Counter(ranks) "
   ]
  },
  {
   "cell_type": "code",
   "execution_count": 38,
   "metadata": {},
   "outputs": [
    {
     "name": "stdout",
     "output_type": "stream",
     "text": [
      "Document (299): «australia will take on france in the doubles rubber of the davis cup tennis final today with the tie levelled at wayne arthurs and todd woodbridge are scheduled to lead australia in the doubles against cedric pioline and fabrice santoro however changes can be made to the line up up to an hour before the match and australian team captain john fitzgerald suggested he might do just that we ll make team appraisal of the whole situation go over the pros and cons and make decision french team captain guy forget says he will not make changes but does not know what to expect from australia todd is the best doubles player in the world right now so expect him to play he said would probably use wayne arthurs but don know what to expect really pat rafter salvaged australia davis cup campaign yesterday with win in the second singles match rafter overcame an arm injury to defeat french number one sebastien grosjean in three sets the australian says he is happy with his form it not very pretty tennis there isn too many consistent bounces you are playing like said bit of classic old grass court rafter said rafter levelled the score after lleyton hewitt shock five set loss to nicholas escude in the first singles rubber but rafter says he felt no added pressure after hewitt defeat knew had good team to back me up even if we were down he said knew could win on the last day know the boys can win doubles so even if we were down still feel we are good enough team to win and vice versa they are good enough team to beat us as well»\n",
      "\n",
      "SIMILAR/DISSIMILAR DOCS PER MODEL Doc2Vec(dm/m,d100,n5,w5,mc2,s0.001,t3):\n",
      "\n",
      "MOST (0, 0.9206167459487915): «hundreds of people have been forced to vacate their homes in the southern highlands of new south wales as strong winds today pushed huge bushfire towards the town of hill top new blaze near goulburn south west of sydney has forced the closure of the hume highway at about pm aedt marked deterioration in the weather as storm cell moved east across the blue mountains forced authorities to make decision to evacuate people from homes in outlying streets at hill top in the new south wales southern highlands an estimated residents have left their homes for nearby mittagong the new south wales rural fire service says the weather conditions which caused the fire to burn in finger formation have now eased and about fire units in and around hill top are optimistic of defending all properties as more than blazes burn on new year eve in new south wales fire crews have been called to new fire at gunning south of goulburn while few details are available at this stage fire authorities says it has closed the hume highway in both directions meanwhile new fire in sydney west is no longer threatening properties in the cranebrook area rain has fallen in some parts of the illawarra sydney the hunter valley and the north coast but the bureau of meteorology claire richards says the rain has done little to ease any of the hundred fires still burning across the state the falls have been quite isolated in those areas and generally the falls have been less than about five millimetres she said in some places really not significant at all less than millimetre so there hasn been much relief as far as rain is concerned in fact they ve probably hampered the efforts of the firefighters more because of the wind gusts that are associated with those thunderstorms»\n",
      "\n",
      "MEDIAN (33, 0.7808020114898682): «new south wales firefighters are hoping lighter winds will help ease their workload today but are predicting nasty conditions over the weekend while the winds are expected to ease somewhat today the weather bureau says temperatures will be higher more than fires are still burning across new south wales the rural fire service says the change may allow it to concentrate more on preventative action but there is no room for complacency mark sullivan from the rural fire service says while conditions may be little kinder to them today the outlook for the weekend has them worried it certainly appears from the weather forecast with very high temperatures and high winds that it certainly could be nasty couple of days ahead mr sullivan said one of the areas causing greatest concern today is the kilometre long blaze in the lower blue mountains firefighters are also keeping close eye on blaze at spencer north of sydney which yesterday broke through containment lines there are concerns that fire may jump the hawkesbury river backburning continues in the state central west and south of sydney in the shoalhaven in the illawarra firefighters have been able to carry out back burning operations in three areas operations were carried out in parts of mt kembla as well as an area bounded by appin road and the old princes highway at helensburgh an area west of windy gully near cataract dam was also targeted meanwhile illawarra police have arrested three teenagers in relation to bushfires at shellharbour on the south coast of new south wales spokesman says three small fires were extinguished around pm aedt yesterday short time later police arrested three year old boys from shellharbour barrack heights and shell cove all three have been interviewed but no charges have been laid»\n",
      "\n",
      "LEAST (19, 0.7126067280769348): «the next few hours are crucial for firefighters on alert in the blue mountains firefighters are working on kilometre fire front in the area which it is feared will devour homes if the wind picks up this afternoon the weather bureau had initially predicted kilometre an hour southerly wind gusts but has revised its forecast to kilometres an hour the wind change is expected to reach the blue mountains in the next hour mark williams the incident controller for the blue mountains region says fire crews will stop back burning as soon as the wind change nears the area soon as we get word the southerly change for instance is getting close to the blue mountains area we initially stop our back burning mr williams said tie it into local creek or something as close as possible so that it contained within that area so we don have further outbreaks»\n",
      "\n"
     ]
    }
   ],
   "source": [
    "print('Document ({}): «{}»\\n'.format(doc_id, ' '.join(train_corpus[doc_id].words)))\n",
    "print(u'SIMILAR/DISSIMILAR DOCS PER MODEL %s:\\n' % model)\n",
    "for label, index in [('MOST', 0), ('MEDIAN', len(sims)//2), ('LEAST', len(sims) - 1)]:\n",
    "    print(u'%s %s: «%s»\\n' % (label, sims[index], ' '.join(train_corpus[sims[index][0]].words)))"
   ]
  },
  {
   "cell_type": "code",
   "execution_count": 39,
   "metadata": {},
   "outputs": [
    {
     "name": "stdout",
     "output_type": "stream",
     "text": [
      "Train Document (121): «the latest business expectations survey is raising hopes of solid economic start to the new year the dun and bradstreet survey has identified positive projections for sales profits investment and employment of the organisations questioned by dun bradstreet during november per cent were looking for an increase in sales in the first quarter of the new year twenty per cent were planning to take on extra staff compared with per cent who said they had been shedding labour profit projections are well up while investment intentions have improved slightly the survey has also found companies are finding it significantly easier to comply with the goods and services tax gst»\n",
      "\n",
      "Similar Document (296, 0.7312306761741638): «today is world aids day and the latest figures show that million people are living with hiv world wide the latest united nations report on the aids epidemic has found eastern europe and the republics of the former soviet union are becoming the new battleground in the fight against the disease un officials say in russia the number of people carrying hiv doubles almost annually while ukraine has become the first nation in europe to report per cent of its adult population is hiv positive the officials say combination of economic insecurity high unemployment and deteriorating health services are behind the steep rise»\n",
      "\n"
     ]
    }
   ],
   "source": [
    "# Pick a random document from the test corpus and infer a vector from the model\n",
    "doc_id = random.randint(0, len(train_corpus) - 1)\n",
    "\n",
    "# Compare and print the most/median/least similar documents from the train corpus\n",
    "print('Train Document ({}): «{}»\\n'.format(doc_id, ' '.join(train_corpus[doc_id].words)))\n",
    "sim_id = second_ranks[doc_id]\n",
    "print('Similar Document {}: «{}»\\n'.format(sim_id, ' '.join(train_corpus[sim_id[0]].words)))"
   ]
  },
  {
   "cell_type": "code",
   "execution_count": null,
   "metadata": {},
   "outputs": [],
   "source": []
  },
  {
   "cell_type": "code",
   "execution_count": null,
   "metadata": {},
   "outputs": [],
   "source": []
  }
 ],
 "metadata": {
  "kernelspec": {
   "display_name": "Python 3",
   "language": "python",
   "name": "python3"
  },
  "language_info": {
   "codemirror_mode": {
    "name": "ipython",
    "version": 3
   },
   "file_extension": ".py",
   "mimetype": "text/x-python",
   "name": "python",
   "nbconvert_exporter": "python",
   "pygments_lexer": "ipython3",
   "version": "3.6.5"
  }
 },
 "nbformat": 4,
 "nbformat_minor": 1
}
